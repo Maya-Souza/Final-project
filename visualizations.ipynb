{
 "cells": [
  {
   "cell_type": "code",
   "execution_count": 2,
   "id": "e9046436",
   "metadata": {},
   "outputs": [],
   "source": [
    "import pandas as pd\n",
    "import numpy as np\n",
    "import os\n",
    "import pickle\n",
    "\n",
    "# import isodate\n",
    "# from datetime import datetime\n",
    "# import time\n",
    "\n",
    "from dotenv import load_dotenv \n",
    "load_dotenv()\n",
    "\n",
    "\n",
    "# text recognition\n",
    "# import nltk\n",
    "# import spacy\n",
    "# import locationtagger\n",
    "# import re\n",
    "# import itertools\n",
    "\n",
    "# different operators\n",
    "from collections import Counter\n",
    "from operator import itemgetter\n",
    "\n",
    "\n",
    "# viz\n",
    "import plotly.express as px\n",
    "import plotly.graph_objects as go\n",
    "from plotly.subplots import make_subplots\n",
    "\n",
    "# streamlit\n",
    "import streamlit as st"
   ]
  },
  {
   "cell_type": "markdown",
   "id": "5620c68b",
   "metadata": {},
   "source": [
    "# Loading dataframes"
   ]
  },
  {
   "cell_type": "code",
   "execution_count": 7,
   "id": "15864462",
   "metadata": {},
   "outputs": [],
   "source": [
    "# Youtube data\n",
    "\n",
    "channel_stats = pd.read_pickle(r'./data/channel_stats.pkl')\n",
    "videos_info = pd.read_pickle(r'./data/video_info.pkl')\n",
    "places_per_year_by_channel = pd.read_pickle(r'./data/places_per_year_by_channel.pkl')\n",
    "places_per_year_filtered = pd.read_pickle(r'./data/places_year_filtered_notuple.pkl')\n",
    "places_mentions_views = pd.read_pickle(r'./data/all_places_views_per_year')"
   ]
  },
  {
   "cell_type": "code",
   "execution_count": 8,
   "id": "953f219b",
   "metadata": {},
   "outputs": [
    {
     "data": {
      "text/html": [
       "<div>\n",
       "<style scoped>\n",
       "    .dataframe tbody tr th:only-of-type {\n",
       "        vertical-align: middle;\n",
       "    }\n",
       "\n",
       "    .dataframe tbody tr th {\n",
       "        vertical-align: top;\n",
       "    }\n",
       "\n",
       "    .dataframe thead th {\n",
       "        text-align: right;\n",
       "    }\n",
       "</style>\n",
       "<table border=\"1\" class=\"dataframe\">\n",
       "  <thead>\n",
       "    <tr style=\"text-align: right;\">\n",
       "      <th></th>\n",
       "      <th>top_places_</th>\n",
       "      <th>mentions</th>\n",
       "      <th>total_number_of_views</th>\n",
       "      <th>year</th>\n",
       "    </tr>\n",
       "  </thead>\n",
       "  <tbody>\n",
       "    <tr>\n",
       "      <th>0</th>\n",
       "      <td>Thailand</td>\n",
       "      <td>92</td>\n",
       "      <td>125362547.0</td>\n",
       "      <td>2018</td>\n",
       "    </tr>\n",
       "    <tr>\n",
       "      <th>1</th>\n",
       "      <td>Pakistan</td>\n",
       "      <td>17</td>\n",
       "      <td>103972401.0</td>\n",
       "      <td>2018</td>\n",
       "    </tr>\n",
       "    <tr>\n",
       "      <th>2</th>\n",
       "      <td>Bangkok</td>\n",
       "      <td>64</td>\n",
       "      <td>90442073.0</td>\n",
       "      <td>2018</td>\n",
       "    </tr>\n",
       "    <tr>\n",
       "      <th>3</th>\n",
       "      <td>Mexico</td>\n",
       "      <td>40</td>\n",
       "      <td>82375702.0</td>\n",
       "      <td>2018</td>\n",
       "    </tr>\n",
       "    <tr>\n",
       "      <th>4</th>\n",
       "      <td>Ghana</td>\n",
       "      <td>10</td>\n",
       "      <td>48081699.0</td>\n",
       "      <td>2018</td>\n",
       "    </tr>\n",
       "    <tr>\n",
       "      <th>...</th>\n",
       "      <td>...</td>\n",
       "      <td>...</td>\n",
       "      <td>...</td>\n",
       "      <td>...</td>\n",
       "    </tr>\n",
       "    <tr>\n",
       "      <th>4166</th>\n",
       "      <td>Pisa</td>\n",
       "      <td>1</td>\n",
       "      <td>1265.0</td>\n",
       "      <td>2010</td>\n",
       "    </tr>\n",
       "    <tr>\n",
       "      <th>4167</th>\n",
       "      <td>Quel</td>\n",
       "      <td>1</td>\n",
       "      <td>1265.0</td>\n",
       "      <td>2010</td>\n",
       "    </tr>\n",
       "    <tr>\n",
       "      <th>4168</th>\n",
       "      <td>Charles</td>\n",
       "      <td>1</td>\n",
       "      <td>840.0</td>\n",
       "      <td>2010</td>\n",
       "    </tr>\n",
       "    <tr>\n",
       "      <th>4169</th>\n",
       "      <td>Grammer</td>\n",
       "      <td>1</td>\n",
       "      <td>576.0</td>\n",
       "      <td>2010</td>\n",
       "    </tr>\n",
       "    <tr>\n",
       "      <th>4170</th>\n",
       "      <td>Joseph</td>\n",
       "      <td>1</td>\n",
       "      <td>453.0</td>\n",
       "      <td>2010</td>\n",
       "    </tr>\n",
       "  </tbody>\n",
       "</table>\n",
       "<p>4171 rows × 4 columns</p>\n",
       "</div>"
      ],
      "text/plain": [
       "     top_places_  mentions  total_number_of_views  year\n",
       "0       Thailand        92            125362547.0  2018\n",
       "1       Pakistan        17            103972401.0  2018\n",
       "2        Bangkok        64             90442073.0  2018\n",
       "3         Mexico        40             82375702.0  2018\n",
       "4          Ghana        10             48081699.0  2018\n",
       "...          ...       ...                    ...   ...\n",
       "4166        Pisa         1                 1265.0  2010\n",
       "4167        Quel         1                 1265.0  2010\n",
       "4168     Charles         1                  840.0  2010\n",
       "4169     Grammer         1                  576.0  2010\n",
       "4170      Joseph         1                  453.0  2010\n",
       "\n",
       "[4171 rows x 4 columns]"
      ]
     },
     "execution_count": 8,
     "metadata": {},
     "output_type": "execute_result"
    }
   ],
   "source": [
    "places_mentions_views"
   ]
  },
  {
   "cell_type": "code",
   "execution_count": null,
   "id": "463e082c",
   "metadata": {},
   "outputs": [],
   "source": [
    "# Google trends data\n",
    "\n",
    "pytrends_top_places_2018= pd.read_pickle(r'./data/pytrends_top_places_2018.pkl')\n",
    "pytrends_top_places_2019= pd.read_pickle(r'./data/pytrends_top_places_2019.pkl')\n",
    "pytrends_top_places_2020 = pd.read_pickle(r'./data/pytrends_top_places_2020.pkl')\n",
    "pytrends_top_places_2021= pd.read_pickle(r'./data/pytrends_top_places_2021.pkl')"
   ]
  },
  {
   "cell_type": "code",
   "execution_count": null,
   "id": "37bc1854",
   "metadata": {},
   "outputs": [],
   "source": [
    "# Hotel occupancy rate and international arrivals data\n",
    "\n",
    "hotel_data = pd.read_pickle(r'./data/hotel_data_edited.pkl')\n",
    "number_of_tourist_arrivals = pd.read_pickle(r'./data/international-tourism-number-of-arrivals.pkl')\n"
   ]
  },
  {
   "cell_type": "markdown",
   "id": "2f186b34",
   "metadata": {},
   "source": [
    "# Visualizations"
   ]
  },
  {
   "cell_type": "markdown",
   "id": "41c14af6",
   "metadata": {},
   "source": [
    "## Most mentioned places X Most views per place"
   ]
  },
  {
   "cell_type": "code",
   "execution_count": null,
   "id": "7a90fca5",
   "metadata": {},
   "outputs": [],
   "source": [
    "def general_data(year, places):\n",
    "    \n",
    "    top_views = places[places['year'] == year][:5]    \n",
    "    \n",
    "    trace3 = go.Scatter(\n",
    "                    mode=\"lines\",\n",
    "                    x = top_views['top_places_'],\n",
    "                    y = top_views['mentions'],\n",
    "                    name='Number of mentions',\n",
    "                    marker = dict(color = 'black')\n",
    "                    \n",
    "    )\n",
    "    \n",
    "    trace4 = go.Bar(\n",
    "                    x = top_views['top_places_'],\n",
    "                    y = top_views['total_number_of_views'],\n",
    "                    name='Number of views',\n",
    "                    marker = dict(color = '#04cad8')\n",
    "                    \n",
    "    )\n",
    "\n",
    "    fig = make_subplots(specs=[[{\"secondary_y\": True}]])\n",
    "    \n",
    "    fig.add_trace(trace3, secondary_y=True,)\n",
    "    fig.add_trace(trace4)\n",
    "    \n",
    "    fig['layout'].update(height = 600, width = 1000, \n",
    "                         title = f\"{year}'s top 5 places in number of views <br><sup>Ranking order is not necessarily the same for mentions</sup>\",\n",
    "                         xaxis=dict(tickangle=0),\n",
    "                         xaxis_title=\"Top 5 places\",\n",
    "                         yaxis_title=\"Number of mentions\",\n",
    "                         yaxis2_title=\"Total views in millions\",\n",
    "                         plot_bgcolor='rgba(240, 242, 247, 0.8)')\n",
    "\n",
    "\n",
    "    return fig"
   ]
  },
  {
   "cell_type": "code",
   "execution_count": null,
   "id": "33856bb8",
   "metadata": {},
   "outputs": [],
   "source": [
    "top_5_places_views_mentions_2018 = general_data(2018,places_mentions_views)\n",
    "top_5_places_views_mentions_2018.write_image(r\".\\images\\graphs\\top_5_places_views_mentions_2018.png\")\n",
    "top_5_places_views_mentions_2018.show()"
   ]
  },
  {
   "cell_type": "code",
   "execution_count": null,
   "id": "af732b0b",
   "metadata": {},
   "outputs": [],
   "source": [
    "top_5_places_views_mentions_2019 = general_data(2019,places_mentions_views)\n",
    "top_5_places_views_mentions_2019.write_image(r\".\\images\\graphs\\top_5_places_views_mentions_2019.png\")\n",
    "top_5_places_views_mentions_2019.show()"
   ]
  },
  {
   "cell_type": "code",
   "execution_count": null,
   "id": "dddadd2e",
   "metadata": {},
   "outputs": [],
   "source": [
    "top_5_places_views_mentions_2020 = general_data(2020, places_mentions_views)\n",
    "top_5_places_views_mentions_2020.write_image(r\".\\images\\graphs\\top_5_places_views_mentions_2020.png\")\n",
    "top_5_places_views_mentions_2020.show()"
   ]
  },
  {
   "cell_type": "code",
   "execution_count": null,
   "id": "efcdb77e",
   "metadata": {},
   "outputs": [],
   "source": [
    "top_5_places_views_mentions_2021 = general_data(2021, places_mentions_views)\n",
    "top_5_places_views_mentions_2021.write_image(r\".\\images\\graphs\\top_5_places_views_mentions_2021.png\")\n",
    "top_5_places_views_mentions_2021.show()"
   ]
  },
  {
   "cell_type": "code",
   "execution_count": 4,
   "id": "409c6041",
   "metadata": {},
   "outputs": [
    {
     "ename": "NameError",
     "evalue": "name 'places_mentions_views' is not defined",
     "output_type": "error",
     "traceback": [
      "\u001b[1;31m---------------------------------------------------------------------------\u001b[0m",
      "\u001b[1;31mNameError\u001b[0m                                 Traceback (most recent call last)",
      "Input \u001b[1;32mIn [4]\u001b[0m, in \u001b[0;36m<cell line: 1>\u001b[1;34m()\u001b[0m\n\u001b[1;32m----> 1\u001b[0m \u001b[43mplaces_mentions_views\u001b[49m\u001b[38;5;241m.\u001b[39msample()\n",
      "\u001b[1;31mNameError\u001b[0m: name 'places_mentions_views' is not defined"
     ]
    }
   ],
   "source": [
    "places_mentions_views.sample()"
   ]
  },
  {
   "cell_type": "markdown",
   "id": "6417d728",
   "metadata": {},
   "source": [
    "## Videos mentioning a place X Google trends interest over time for the same place"
   ]
  },
  {
   "cell_type": "code",
   "execution_count": null,
   "id": "d4212c7e",
   "metadata": {},
   "outputs": [],
   "source": [
    "def plotting_trends_videos(trends, videos_info, place, year):\n",
    "\n",
    "    select = videos_info.loc[(videos_info['everywhere_string'].str.contains(f\"{place}\")) & \n",
    "                             (videos_info['year_published'] == year)]\n",
    "\n",
    "    trace1 = go.Line(\n",
    "        x = trends['date'],\n",
    "        y = trends[place],\n",
    "        name= f'Interest over time for {place}',\n",
    "        marker=dict(\n",
    "            color= 'black'#'rgb(34,163,192)'\n",
    "                   )\n",
    "    )\n",
    "    trace2 = go.Scatter(\n",
    "        x=select['publishedAt'],\n",
    "        y=select['viewCount'],\n",
    "        name='Videos posted by number of views',\n",
    "        yaxis='y2',\n",
    "        mode = 'markers',\n",
    "        marker = dict(size=8,\n",
    "                      symbol = 'diamond-dot',\n",
    "                      color = '#04cad8')#'rgba(190, 167, 9, 0.8)')\n",
    "\n",
    "    )\n",
    "\n",
    "    fig = make_subplots(specs=[[{\"secondary_y\": True}]])\n",
    "    fig.add_trace(trace1)\n",
    "    fig.add_trace(trace2, secondary_y=True)\n",
    "    \n",
    "    fig['layout'].update(height = 600, width = 1000, \n",
    "                         title = f\"Google Trends results for '{place}' x Views on YouTube for videos that mention '{place}'\",\n",
    "                         xaxis=dict(tickangle=-45),\n",
    "                        xaxis_title=\"Date\",\n",
    "                        yaxis_title=\"Google trends - interest over time\",\n",
    "                        yaxis2_title=\"Number of views per video in millions\",\n",
    "                        plot_bgcolor='rgba(240, 242, 247, 0.8)')\n",
    "                        #,legend_title=\"Legend\")\n",
    "    \n",
    "    fig.update_xaxes(minor=dict(ticklen=6, tickcolor=\"black\", showgrid=True))\n",
    "    \n",
    "    return fig"
   ]
  },
  {
   "cell_type": "code",
   "execution_count": null,
   "id": "e76211e3",
   "metadata": {},
   "outputs": [],
   "source": [
    "thai_2018_trend = plotting_trends_videos(pytrends_top_places_2018, videos_info, 'Thailand', 2018)\n",
    "thai_2018_trend.write_image(r\".\\images\\graphs\\thai_2018_trend.png\")\n",
    "thai_2018_trend.show()"
   ]
  },
  {
   "cell_type": "code",
   "execution_count": null,
   "id": "44d898b0",
   "metadata": {},
   "outputs": [],
   "source": [
    "pakistan_2018_trend = plotting_trends_videos(pytrends_top_places_2018, videos_info, 'Pakistan', 2018)\n",
    "pakistan_2018_trend.write_image(r\".\\images\\graphs\\pakistan_2018_trend.png\")\n",
    "pakistan_2018_trend.show()"
   ]
  },
  {
   "cell_type": "code",
   "execution_count": null,
   "id": "b6b17ad5",
   "metadata": {},
   "outputs": [],
   "source": [
    "mexico_2018_trend = plotting_trends_videos(pytrends_top_places_2018, videos_info, 'Mexico', 2018)\n",
    "mexico_2018_trend.write_image(r\".\\images\\graphs\\mexico_2018_trend.png\")\n",
    "mexico_2018_trend.show()"
   ]
  },
  {
   "cell_type": "code",
   "execution_count": null,
   "id": "24a0893c",
   "metadata": {},
   "outputs": [],
   "source": [
    "india_2019_trend = plotting_trends_videos(pytrends_top_places_2019, videos_info, 'India', 2019)\n",
    "india_2019_trend.write_image(r\".\\images\\graphs\\india_2019_trend.png\")\n",
    "india_2019_trend.show()"
   ]
  },
  {
   "cell_type": "code",
   "execution_count": null,
   "id": "74adf2ed",
   "metadata": {},
   "outputs": [],
   "source": [
    "thai_2019_trend = plotting_trends_videos(pytrends_top_places_2019, videos_info, 'Thailand', 2019)\n",
    "thai_2019_trend.write_image(r\".\\images\\graphs\\thai_2019_trend.png\")\n",
    "thai_2019_trend.show()"
   ]
  },
  {
   "cell_type": "code",
   "execution_count": null,
   "id": "83c9173a",
   "metadata": {},
   "outputs": [],
   "source": [
    "pakistan_2019_trend = plotting_trends_videos(pytrends_top_places_2019, videos_info, 'Pakistan', 2019)\n",
    "pakistan_2019_trend.write_image(r\".\\images\\graphs\\pakistan_2019_trend.png\")\n",
    "pakistan_2019_trend.show()"
   ]
  },
  {
   "cell_type": "code",
   "execution_count": null,
   "id": "b907bd9e",
   "metadata": {},
   "outputs": [],
   "source": [
    "thai_2020_trend = plotting_trends_videos(pytrends_top_places_2020, videos_info, 'Thailand', 2020)\n",
    "thai_2020_trend.write_image(r\".\\images\\graphs\\thai_2020_trend.png\")\n",
    "thai_2020_trend.show()"
   ]
  },
  {
   "cell_type": "code",
   "execution_count": null,
   "id": "00f9d4d4",
   "metadata": {},
   "outputs": [],
   "source": [
    "tabriz_2020_trend = plotting_trends_videos(pytrends_top_places_2020, videos_info, 'Tabriz', 2020)\n",
    "tabriz_2020_trend.write_image(r\".\\images\\graphs\\tabriz_2020_trend.png\")\n",
    "tabriz_2020_trend.show()"
   ]
  },
  {
   "cell_type": "code",
   "execution_count": null,
   "id": "23520f95",
   "metadata": {},
   "outputs": [],
   "source": [
    "\n",
    "india_2020_trend = plotting_trends_videos(pytrends_top_places_2020, videos_info, 'India', 2020)\n",
    "india_2020_trend.write_image(r\".\\images\\graphs\\india_2020_trend.png\")\n",
    "india_2020_trend.show()"
   ]
  },
  {
   "cell_type": "code",
   "execution_count": null,
   "id": "042d0176",
   "metadata": {},
   "outputs": [],
   "source": [
    "thai_2021_trend = plotting_trends_videos(pytrends_top_places_2021, videos_info, 'Thailand', 2021)\n",
    "thai_2021_trend.write_image(r\".\\images\\graphs\\thai_2021_trend.png\")\n",
    "thai_2021_trend.show()"
   ]
  },
  {
   "cell_type": "code",
   "execution_count": null,
   "id": "8d83c39c",
   "metadata": {},
   "outputs": [],
   "source": [
    "california_2021_trend = plotting_trends_videos(pytrends_top_places_2021, videos_info, 'California', 2021)\n",
    "california_2021_trend.write_image(r\".\\images\\graphs\\california_2021_trend.png\")\n",
    "california_2021_trend.show()"
   ]
  },
  {
   "cell_type": "code",
   "execution_count": null,
   "id": "a99b3ec1",
   "metadata": {},
   "outputs": [],
   "source": [
    "arizona_2021_trend = plotting_trends_videos(pytrends_top_places_2021, videos_info, 'Arizona', 2021)\n",
    "arizona_2021_trend.write_image(r\".\\images\\graphs\\arizona_2021_trend.png\")\n",
    "arizona_2021_trend.show()"
   ]
  },
  {
   "cell_type": "markdown",
   "id": "7be331e2",
   "metadata": {},
   "source": [
    "## Number of views per place over time X Number of tourist arrivals over time"
   ]
  },
  {
   "cell_type": "code",
   "execution_count": null,
   "id": "c3253889",
   "metadata": {},
   "outputs": [],
   "source": [
    "def plotting_tourism_data (places_mentions_views, tourism_info):#, option, hotels, type_option, col):\n",
    "\n",
    "    place = input('Type the place \\n')\n",
    "    #place2 = input\n",
    "    \n",
    "    views = places_mentions_views[places_mentions_views['top_places_']==place]\n",
    "    \n",
    "    arrivals = number_of_tourist_arrivals.loc[(number_of_tourist_arrivals['Entity'] == place) \n",
    "                                             & (number_of_tourist_arrivals['Year']>=2018)]\n",
    "    \n",
    "        \n",
    "    fig = make_subplots(#rows=1, cols=2, \n",
    "                    specs=[[{\"secondary_y\": True}]])    \n",
    "    \n",
    "    trace1 = go.Line(\n",
    "                    #mode = 'lines',\n",
    "                    x = views['year'],\n",
    "                    y = views['total_number_of_views'],\n",
    "                    name= f'Total number of YouTube views for {place}',\n",
    "                    yaxis='y2',\n",
    "                    line = dict(width = 2),\n",
    "                    marker=dict(\n",
    "                                color='black',#rgb(34,163,192)\n",
    "                                line = dict(width = 2, color='black')\n",
    "                                )\n",
    "    )\n",
    "\n",
    "    trace2 = go.Bar(\n",
    "                    x = arrivals['Year'],\n",
    "                    y = arrivals['International tourism, number of arrivals'],\n",
    "                    name='Number of tourists arriving',\n",
    "                    marker = dict(color = '#04cad8')#rgba(221, 206, 103, 0.8)\n",
    "    )\n",
    "\n",
    "    \n",
    "    fig.add_trace(trace1, secondary_y=True)\n",
    "    fig.add_trace(trace2)\n",
    "    \n",
    "\n",
    "    fig['layout'].update(height = 600, width = 1000, \n",
    "                         title = f\"Tourist arrivals in '{place}' x Views on YouTube for videos mentioning '{place}'\",\n",
    "                         xaxis=dict(tickangle=0, type = 'category', categoryorder='array', \n",
    "                                    categoryarray = ['2018', '2019', '2020', '2021']),\n",
    "                         xaxis_title=\"Year\",\n",
    "                         yaxis2_title=\"Total views in millions\",\n",
    "                         yaxis_title=\"Number of arrivals in millions\",\n",
    "                         plot_bgcolor='rgba(240, 242, 247, 0.8)')\n",
    "                        #,legend_title=\"Legend\")\n",
    "\n",
    "    fig.update_yaxes(minor=dict(ticklen=6, tickcolor=\"black\", showgrid=True, nticks=3))\n",
    "    \n",
    "#     if option == 2:\n",
    "        \n",
    "#         h = hotel_data[(hotel_data['country']==place)&(hotel_data['year']>=2018)]\n",
    "    \n",
    "#         trace3 = go.Line(\n",
    "#                             #mode = 'lines',\n",
    "#                             x = h['year'],\n",
    "#                             y = h[col],\n",
    "#                             name= f'Occupancy rate of hotel {type_option}',\n",
    "#                             yaxis='y3',\n",
    "#                             line = dict(width = 2),\n",
    "#                             marker=dict(\n",
    "#                                 color='black',#rgb(34,163,192)\n",
    "#                                 line = dict(width = 2, color='black')\n",
    "#                                 )\n",
    "#                             )\n",
    "        \n",
    "#         fig['layout'].update(height = 600, width = 1000, \n",
    "#                          title = f\"International tourists arrivals in '{place}' x Views on YouTube for videos mentioning '{place}'\",\n",
    "#                          xaxis=dict(tickangle=0, type = 'category', categoryorder='array', \n",
    "#                                     categoryarray = ['2018', '2019', '2020', '2021']),\n",
    "#                          xaxis_title=\"Year\",\n",
    "                         \n",
    "#                          yaxis3=dict(\n",
    "#                                     title=\"yaxis3 title\",\n",
    "#                                     titlefont=dict(\n",
    "#                                     color=\"#d62728\"\n",
    "#                                     ),\n",
    "#                                     anchor=\"x\",                      #If set to \"x\", this axis is bound to the corresponding opposite-letter axis - in this case, y-axis. And the 'side' parameter specifies which side this y-axis is placed\n",
    "#                                     overlaying=\"y\",\n",
    "#                                     side=\"left\"\n",
    "#                           ),\n",
    "                         \n",
    "#                           yaxis2 = dict(title=\"Total views in millions\",\n",
    "#                                      anchor=\"free\",                   #If set to \"free\", this axis' position is determined by 'position'.\n",
    "#                                      overlaying=\"y\",\n",
    "#                                      side=\"left\",\n",
    "#                                      position=0.5),\n",
    "                             \n",
    "#                           yaxis_title=\"Number of arrivals in millions\",\n",
    "#                           plot_bgcolor='rgba(240, 242, 247, 0.8)')\n",
    "    \n",
    "    \n",
    "#         fig.add_trace(trace3)\n",
    "\n",
    "#         return fig\n",
    "\n",
    "    return fig"
   ]
  },
  {
   "cell_type": "code",
   "execution_count": null,
   "id": "402f17a8",
   "metadata": {},
   "outputs": [],
   "source": [
    "thai_tourism = plotting_tourism_data(places_mentions_views, number_of_tourist_arrivals)#, 2, hotel_data, 'rooms', 'occupancy_rate_rooms')\n",
    "#thai_tourism.write_image(r\".\\images\\graphs\\thai_tourism.png\")\n",
    "thai_tourism.show()"
   ]
  },
  {
   "cell_type": "code",
   "execution_count": 3,
   "id": "be984b49",
   "metadata": {},
   "outputs": [
    {
     "ename": "NameError",
     "evalue": "name 'plotting_tourism_data' is not defined",
     "output_type": "error",
     "traceback": [
      "\u001b[1;31m---------------------------------------------------------------------------\u001b[0m",
      "\u001b[1;31mNameError\u001b[0m                                 Traceback (most recent call last)",
      "Input \u001b[1;32mIn [3]\u001b[0m, in \u001b[0;36m<cell line: 1>\u001b[1;34m()\u001b[0m\n\u001b[1;32m----> 1\u001b[0m pakistan_tourism \u001b[38;5;241m=\u001b[39m \u001b[43mplotting_tourism_data\u001b[49m(places_mentions_views, number_of_tourist_arrivals)\n\u001b[0;32m      2\u001b[0m pakistan_tourism\u001b[38;5;241m.\u001b[39mwrite_image(\u001b[38;5;124mr\u001b[39m\u001b[38;5;124m\"\u001b[39m\u001b[38;5;124m.\u001b[39m\u001b[38;5;124m\\\u001b[39m\u001b[38;5;124mimages\u001b[39m\u001b[38;5;124m\\\u001b[39m\u001b[38;5;124mgraphs\u001b[39m\u001b[38;5;124m\\\u001b[39m\u001b[38;5;124mpakistan_tourism.png\u001b[39m\u001b[38;5;124m\"\u001b[39m)\n\u001b[0;32m      3\u001b[0m pakistan_tourism\u001b[38;5;241m.\u001b[39mshow()\n",
      "\u001b[1;31mNameError\u001b[0m: name 'plotting_tourism_data' is not defined"
     ]
    }
   ],
   "source": [
    "pakistan_tourism = plotting_tourism_data(places_mentions_views, number_of_tourist_arrivals)\n",
    "pakistan_tourism.write_image(r\".\\images\\graphs\\pakistan_tourism.png\")\n",
    "pakistan_tourism.show()"
   ]
  },
  {
   "cell_type": "code",
   "execution_count": null,
   "id": "99761cf8",
   "metadata": {},
   "outputs": [],
   "source": [
    "mexico_tourism = plotting_tourism_data(places_mentions_views, number_of_tourist_arrivals)\n",
    "mexico_tourism.write_image(r\".\\images\\graphs\\mexico_tourism.png\")\n",
    "mexico_tourism.show()"
   ]
  },
  {
   "cell_type": "code",
   "execution_count": null,
   "id": "6ea1471b",
   "metadata": {},
   "outputs": [],
   "source": [
    "california_tourism = plotting_tourism_data(places_mentions_views, number_of_tourist_arrivals)\n",
    "california_tourism.write_image(r\".\\images\\graphs\\california_tourism.png\")\n",
    "california_tourism.show()"
   ]
  },
  {
   "cell_type": "code",
   "execution_count": null,
   "id": "808e3c67",
   "metadata": {},
   "outputs": [],
   "source": [
    "arizona_tourism = plotting_tourism_data(places_mentions_views, number_of_tourist_arrivals)\n",
    "arizona_tourism.write_image(r\".\\images\\graphs\\arizona_tourism.png\")\n",
    "arizona_tourism.show()"
   ]
  },
  {
   "cell_type": "code",
   "execution_count": null,
   "id": "784f7065",
   "metadata": {},
   "outputs": [],
   "source": [
    "tabriz_tourism = plotting_tourism_data(places_mentions_views, number_of_tourist_arrivals)\n",
    "tabriz_tourism.write_image(r\".\\images\\graphs\\tabriz_tourism.png\")\n",
    "tabriz_tourism.show()"
   ]
  },
  {
   "cell_type": "code",
   "execution_count": null,
   "id": "fad4caaf",
   "metadata": {},
   "outputs": [],
   "source": [
    "jamaica_tourism = plotting_tourism_data(places_mentions_views, number_of_tourist_arrivals)\n",
    "jamaica_tourism.write_image(r\".\\images\\graphs\\jamaica_tourism.png\")\n",
    "jamaica_tourism.show()"
   ]
  },
  {
   "cell_type": "code",
   "execution_count": null,
   "id": "5024b153",
   "metadata": {},
   "outputs": [],
   "source": [
    "india_tourism = plotting_tourism_data(places_mentions_views, number_of_tourist_arrivals)\n",
    "india_tourism.write_image(r\".\\images\\graphs\\india_tourism.png\")\n",
    "india_tourism.show()"
   ]
  },
  {
   "cell_type": "markdown",
   "id": "d556d7c9",
   "metadata": {},
   "source": [
    "# Streamlit"
   ]
  },
  {
   "cell_type": "code",
   "execution_count": null,
   "id": "f5d57126",
   "metadata": {},
   "outputs": [],
   "source": []
  }
 ],
 "metadata": {
  "kernelspec": {
   "display_name": "Python 3 (ipykernel)",
   "language": "python",
   "name": "python3"
  },
  "language_info": {
   "codemirror_mode": {
    "name": "ipython",
    "version": 3
   },
   "file_extension": ".py",
   "mimetype": "text/x-python",
   "name": "python",
   "nbconvert_exporter": "python",
   "pygments_lexer": "ipython3",
   "version": "3.10.4"
  },
  "toc": {
   "base_numbering": 1,
   "nav_menu": {},
   "number_sections": true,
   "sideBar": true,
   "skip_h1_title": false,
   "title_cell": "Table of Contents",
   "title_sidebar": "Contents",
   "toc_cell": false,
   "toc_position": {},
   "toc_section_display": true,
   "toc_window_display": false
  }
 },
 "nbformat": 4,
 "nbformat_minor": 5
}
